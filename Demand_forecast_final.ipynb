{
 "cells": [
  {
   "cell_type": "code",
   "execution_count": 1,
   "metadata": {},
   "outputs": [],
   "source": [
    "import pandas as pd\n",
    "import numpy as np\n",
    "import warnings\n",
    "warnings.filterwarnings('ignore')\n",
    "import matplotlib as mpl\n",
    "import seaborn as sns\n",
    "import matplotlib.pyplot as plt\n",
    "\n",
    "plt.style.use('fivethirtyeight')\n",
    "# 노트북 안에 그래프 그리기\n",
    "%matplotlib inline\n",
    "# 그래프 격자로 숫자 범위가 눈에 잘 띄도록 ggplot 스타일 사용\n",
    "plt.style.use('ggplot')\n",
    "# 그래프에서 마이너스 폰트 깨지는 문제에 대한 대처\n",
    "mpl.rcParams['axes.unicode_minus']=False\n",
    "train = pd.read_csv('train.csv')\n",
    "test = pd.read_csv('test.csv')"
   ]
  },
  {
   "cell_type": "markdown",
   "metadata": {},
   "source": [
    "# Data\n",
    "- date - Date of the sale data. There are no holiday effects or store closures.\n",
    "- store - Store ID (1-10)\n",
    "- item - Item ID (1-50)\n",
    "- sales - Number of items sold at a particular store on a particular date."
   ]
  },
  {
   "cell_type": "code",
   "execution_count": 2,
   "metadata": {},
   "outputs": [
    {
     "data": {
      "text/html": [
       "<div>\n",
       "<style scoped>\n",
       "    .dataframe tbody tr th:only-of-type {\n",
       "        vertical-align: middle;\n",
       "    }\n",
       "\n",
       "    .dataframe tbody tr th {\n",
       "        vertical-align: top;\n",
       "    }\n",
       "\n",
       "    .dataframe thead th {\n",
       "        text-align: right;\n",
       "    }\n",
       "</style>\n",
       "<table border=\"1\" class=\"dataframe\">\n",
       "  <thead>\n",
       "    <tr style=\"text-align: right;\">\n",
       "      <th></th>\n",
       "      <th>date</th>\n",
       "      <th>store</th>\n",
       "      <th>item</th>\n",
       "      <th>sales</th>\n",
       "    </tr>\n",
       "  </thead>\n",
       "  <tbody>\n",
       "    <tr>\n",
       "      <th>0</th>\n",
       "      <td>2013-01-01</td>\n",
       "      <td>1</td>\n",
       "      <td>1</td>\n",
       "      <td>13</td>\n",
       "    </tr>\n",
       "    <tr>\n",
       "      <th>1</th>\n",
       "      <td>2013-01-02</td>\n",
       "      <td>1</td>\n",
       "      <td>1</td>\n",
       "      <td>11</td>\n",
       "    </tr>\n",
       "    <tr>\n",
       "      <th>2</th>\n",
       "      <td>2013-01-03</td>\n",
       "      <td>1</td>\n",
       "      <td>1</td>\n",
       "      <td>14</td>\n",
       "    </tr>\n",
       "    <tr>\n",
       "      <th>3</th>\n",
       "      <td>2013-01-04</td>\n",
       "      <td>1</td>\n",
       "      <td>1</td>\n",
       "      <td>13</td>\n",
       "    </tr>\n",
       "    <tr>\n",
       "      <th>4</th>\n",
       "      <td>2013-01-05</td>\n",
       "      <td>1</td>\n",
       "      <td>1</td>\n",
       "      <td>10</td>\n",
       "    </tr>\n",
       "  </tbody>\n",
       "</table>\n",
       "</div>"
      ],
      "text/plain": [
       "         date  store  item  sales\n",
       "0  2013-01-01      1     1     13\n",
       "1  2013-01-02      1     1     11\n",
       "2  2013-01-03      1     1     14\n",
       "3  2013-01-04      1     1     13\n",
       "4  2013-01-05      1     1     10"
      ]
     },
     "execution_count": 2,
     "metadata": {},
     "output_type": "execute_result"
    }
   ],
   "source": [
    "train.head()"
   ]
  },
  {
   "cell_type": "code",
   "execution_count": 3,
   "metadata": {},
   "outputs": [
    {
     "data": {
      "text/html": [
       "<div>\n",
       "<style scoped>\n",
       "    .dataframe tbody tr th:only-of-type {\n",
       "        vertical-align: middle;\n",
       "    }\n",
       "\n",
       "    .dataframe tbody tr th {\n",
       "        vertical-align: top;\n",
       "    }\n",
       "\n",
       "    .dataframe thead th {\n",
       "        text-align: right;\n",
       "    }\n",
       "</style>\n",
       "<table border=\"1\" class=\"dataframe\">\n",
       "  <thead>\n",
       "    <tr style=\"text-align: right;\">\n",
       "      <th></th>\n",
       "      <th>id</th>\n",
       "      <th>date</th>\n",
       "      <th>store</th>\n",
       "      <th>item</th>\n",
       "    </tr>\n",
       "  </thead>\n",
       "  <tbody>\n",
       "    <tr>\n",
       "      <th>0</th>\n",
       "      <td>0</td>\n",
       "      <td>2018-01-01</td>\n",
       "      <td>1</td>\n",
       "      <td>1</td>\n",
       "    </tr>\n",
       "    <tr>\n",
       "      <th>1</th>\n",
       "      <td>1</td>\n",
       "      <td>2018-01-02</td>\n",
       "      <td>1</td>\n",
       "      <td>1</td>\n",
       "    </tr>\n",
       "    <tr>\n",
       "      <th>2</th>\n",
       "      <td>2</td>\n",
       "      <td>2018-01-03</td>\n",
       "      <td>1</td>\n",
       "      <td>1</td>\n",
       "    </tr>\n",
       "    <tr>\n",
       "      <th>3</th>\n",
       "      <td>3</td>\n",
       "      <td>2018-01-04</td>\n",
       "      <td>1</td>\n",
       "      <td>1</td>\n",
       "    </tr>\n",
       "    <tr>\n",
       "      <th>4</th>\n",
       "      <td>4</td>\n",
       "      <td>2018-01-05</td>\n",
       "      <td>1</td>\n",
       "      <td>1</td>\n",
       "    </tr>\n",
       "  </tbody>\n",
       "</table>\n",
       "</div>"
      ],
      "text/plain": [
       "   id        date  store  item\n",
       "0   0  2018-01-01      1     1\n",
       "1   1  2018-01-02      1     1\n",
       "2   2  2018-01-03      1     1\n",
       "3   3  2018-01-04      1     1\n",
       "4   4  2018-01-05      1     1"
      ]
     },
     "execution_count": 3,
     "metadata": {},
     "output_type": "execute_result"
    }
   ],
   "source": [
    "test.head()"
   ]
  },
  {
   "cell_type": "code",
   "execution_count": 4,
   "metadata": {},
   "outputs": [
    {
     "name": "stdout",
     "output_type": "stream",
     "text": [
      "<class 'pandas.core.frame.DataFrame'>\n",
      "RangeIndex: 913000 entries, 0 to 912999\n",
      "Data columns (total 4 columns):\n",
      "date     913000 non-null object\n",
      "store    913000 non-null int64\n",
      "item     913000 non-null int64\n",
      "sales    913000 non-null int64\n",
      "dtypes: int64(3), object(1)\n",
      "memory usage: 27.9+ MB\n"
     ]
    }
   ],
   "source": [
    "train.info()"
   ]
  },
  {
   "cell_type": "code",
   "execution_count": 5,
   "metadata": {},
   "outputs": [
    {
     "name": "stdout",
     "output_type": "stream",
     "text": [
      "<class 'pandas.core.frame.DataFrame'>\n",
      "RangeIndex: 45000 entries, 0 to 44999\n",
      "Data columns (total 4 columns):\n",
      "id       45000 non-null int64\n",
      "date     45000 non-null object\n",
      "store    45000 non-null int64\n",
      "item     45000 non-null int64\n",
      "dtypes: int64(3), object(1)\n",
      "memory usage: 1.4+ MB\n"
     ]
    }
   ],
   "source": [
    "test.info()"
   ]
  },
  {
   "cell_type": "markdown",
   "metadata": {},
   "source": [
    "- train과 test 데이터셋에 결측값은 없다."
   ]
  },
  {
   "cell_type": "markdown",
   "metadata": {},
   "source": [
    "## 시계열 데이터이므로 먼저 날짜에 따른 sales값을 살펴보기 위해 date 변수에 있는 데이터를 날짜로 인식하게 한다.\n",
    "## 그 후 날짜에서 뽑아낼 수 있는 특성들을 뽑아낸다."
   ]
  },
  {
   "cell_type": "code",
   "execution_count": 6,
   "metadata": {},
   "outputs": [
    {
     "data": {
      "text/html": [
       "<div>\n",
       "<style scoped>\n",
       "    .dataframe tbody tr th:only-of-type {\n",
       "        vertical-align: middle;\n",
       "    }\n",
       "\n",
       "    .dataframe tbody tr th {\n",
       "        vertical-align: top;\n",
       "    }\n",
       "\n",
       "    .dataframe thead th {\n",
       "        text-align: right;\n",
       "    }\n",
       "</style>\n",
       "<table border=\"1\" class=\"dataframe\">\n",
       "  <thead>\n",
       "    <tr style=\"text-align: right;\">\n",
       "      <th></th>\n",
       "      <th>date</th>\n",
       "      <th>store</th>\n",
       "      <th>item</th>\n",
       "      <th>sales</th>\n",
       "      <th>year</th>\n",
       "      <th>month</th>\n",
       "      <th>dayofmonth</th>\n",
       "      <th>dayofweek</th>\n",
       "      <th>dayofyear</th>\n",
       "      <th>weekofyear</th>\n",
       "    </tr>\n",
       "  </thead>\n",
       "  <tbody>\n",
       "    <tr>\n",
       "      <th>0</th>\n",
       "      <td>2013-01-01</td>\n",
       "      <td>1</td>\n",
       "      <td>1</td>\n",
       "      <td>13</td>\n",
       "      <td>2013</td>\n",
       "      <td>1</td>\n",
       "      <td>1</td>\n",
       "      <td>1</td>\n",
       "      <td>1</td>\n",
       "      <td>1</td>\n",
       "    </tr>\n",
       "    <tr>\n",
       "      <th>1</th>\n",
       "      <td>2013-01-02</td>\n",
       "      <td>1</td>\n",
       "      <td>1</td>\n",
       "      <td>11</td>\n",
       "      <td>2013</td>\n",
       "      <td>1</td>\n",
       "      <td>2</td>\n",
       "      <td>2</td>\n",
       "      <td>2</td>\n",
       "      <td>1</td>\n",
       "    </tr>\n",
       "    <tr>\n",
       "      <th>2</th>\n",
       "      <td>2013-01-03</td>\n",
       "      <td>1</td>\n",
       "      <td>1</td>\n",
       "      <td>14</td>\n",
       "      <td>2013</td>\n",
       "      <td>1</td>\n",
       "      <td>3</td>\n",
       "      <td>3</td>\n",
       "      <td>3</td>\n",
       "      <td>1</td>\n",
       "    </tr>\n",
       "    <tr>\n",
       "      <th>3</th>\n",
       "      <td>2013-01-04</td>\n",
       "      <td>1</td>\n",
       "      <td>1</td>\n",
       "      <td>13</td>\n",
       "      <td>2013</td>\n",
       "      <td>1</td>\n",
       "      <td>4</td>\n",
       "      <td>4</td>\n",
       "      <td>4</td>\n",
       "      <td>1</td>\n",
       "    </tr>\n",
       "    <tr>\n",
       "      <th>4</th>\n",
       "      <td>2013-01-05</td>\n",
       "      <td>1</td>\n",
       "      <td>1</td>\n",
       "      <td>10</td>\n",
       "      <td>2013</td>\n",
       "      <td>1</td>\n",
       "      <td>5</td>\n",
       "      <td>5</td>\n",
       "      <td>5</td>\n",
       "      <td>1</td>\n",
       "    </tr>\n",
       "  </tbody>\n",
       "</table>\n",
       "</div>"
      ],
      "text/plain": [
       "        date  store  item  sales  year  month  dayofmonth  dayofweek  \\\n",
       "0 2013-01-01      1     1     13  2013      1           1          1   \n",
       "1 2013-01-02      1     1     11  2013      1           2          2   \n",
       "2 2013-01-03      1     1     14  2013      1           3          3   \n",
       "3 2013-01-04      1     1     13  2013      1           4          4   \n",
       "4 2013-01-05      1     1     10  2013      1           5          5   \n",
       "\n",
       "   dayofyear  weekofyear  \n",
       "0          1           1  \n",
       "1          2           1  \n",
       "2          3           1  \n",
       "3          4           1  \n",
       "4          5           1  "
      ]
     },
     "execution_count": 6,
     "metadata": {},
     "output_type": "execute_result"
    }
   ],
   "source": [
    "com=[train,test]\n",
    "for i in com:\n",
    "    i['date']=pd.to_datetime(i['date']) # 데이터를 날짜로 인식하게 해주는 함수\n",
    "    \n",
    "    i['year']=i['date'].dt.year # 년(年)을 뽑아내는 함수\n",
    "    \n",
    "    i['month']=i['date'].dt.month # 월(月)을 뽑아내는 함수\n",
    "    \n",
    "    i['dayofmonth']=i['date'].dt.day # 일(日)을 뽑아내는 함수\n",
    "    \n",
    "    i['dayofweek']=i['date'].dt.dayofweek # 요일을 뽑아내는 함수 (월화수목금토일 순으로 0 부터 6)\n",
    "    \n",
    "    i['dayofyear']=i['date'].dt.dayofyear # 1년 안에서 몇번 째 일인지 뽑아내는 함수\n",
    "    \n",
    "    i['weekofyear']=i['date'].dt.weekofyear # 1년 안에서 몇번 째 주인지 뽑아내는 함수\n",
    "train.head()"
   ]
  },
  {
   "cell_type": "code",
   "execution_count": 7,
   "metadata": {},
   "outputs": [
    {
     "data": {
      "text/html": [
       "<div>\n",
       "<style scoped>\n",
       "    .dataframe tbody tr th:only-of-type {\n",
       "        vertical-align: middle;\n",
       "    }\n",
       "\n",
       "    .dataframe tbody tr th {\n",
       "        vertical-align: top;\n",
       "    }\n",
       "\n",
       "    .dataframe thead th {\n",
       "        text-align: right;\n",
       "    }\n",
       "</style>\n",
       "<table border=\"1\" class=\"dataframe\">\n",
       "  <thead>\n",
       "    <tr style=\"text-align: right;\">\n",
       "      <th></th>\n",
       "      <th>id</th>\n",
       "      <th>date</th>\n",
       "      <th>store</th>\n",
       "      <th>item</th>\n",
       "      <th>year</th>\n",
       "      <th>month</th>\n",
       "      <th>dayofmonth</th>\n",
       "      <th>dayofweek</th>\n",
       "      <th>dayofyear</th>\n",
       "      <th>weekofyear</th>\n",
       "    </tr>\n",
       "  </thead>\n",
       "  <tbody>\n",
       "    <tr>\n",
       "      <th>0</th>\n",
       "      <td>0</td>\n",
       "      <td>2018-01-01</td>\n",
       "      <td>1</td>\n",
       "      <td>1</td>\n",
       "      <td>2018</td>\n",
       "      <td>1</td>\n",
       "      <td>1</td>\n",
       "      <td>0</td>\n",
       "      <td>1</td>\n",
       "      <td>1</td>\n",
       "    </tr>\n",
       "    <tr>\n",
       "      <th>1</th>\n",
       "      <td>1</td>\n",
       "      <td>2018-01-02</td>\n",
       "      <td>1</td>\n",
       "      <td>1</td>\n",
       "      <td>2018</td>\n",
       "      <td>1</td>\n",
       "      <td>2</td>\n",
       "      <td>1</td>\n",
       "      <td>2</td>\n",
       "      <td>1</td>\n",
       "    </tr>\n",
       "    <tr>\n",
       "      <th>2</th>\n",
       "      <td>2</td>\n",
       "      <td>2018-01-03</td>\n",
       "      <td>1</td>\n",
       "      <td>1</td>\n",
       "      <td>2018</td>\n",
       "      <td>1</td>\n",
       "      <td>3</td>\n",
       "      <td>2</td>\n",
       "      <td>3</td>\n",
       "      <td>1</td>\n",
       "    </tr>\n",
       "    <tr>\n",
       "      <th>3</th>\n",
       "      <td>3</td>\n",
       "      <td>2018-01-04</td>\n",
       "      <td>1</td>\n",
       "      <td>1</td>\n",
       "      <td>2018</td>\n",
       "      <td>1</td>\n",
       "      <td>4</td>\n",
       "      <td>3</td>\n",
       "      <td>4</td>\n",
       "      <td>1</td>\n",
       "    </tr>\n",
       "    <tr>\n",
       "      <th>4</th>\n",
       "      <td>4</td>\n",
       "      <td>2018-01-05</td>\n",
       "      <td>1</td>\n",
       "      <td>1</td>\n",
       "      <td>2018</td>\n",
       "      <td>1</td>\n",
       "      <td>5</td>\n",
       "      <td>4</td>\n",
       "      <td>5</td>\n",
       "      <td>1</td>\n",
       "    </tr>\n",
       "  </tbody>\n",
       "</table>\n",
       "</div>"
      ],
      "text/plain": [
       "   id       date  store  item  year  month  dayofmonth  dayofweek  dayofyear  \\\n",
       "0   0 2018-01-01      1     1  2018      1           1          0          1   \n",
       "1   1 2018-01-02      1     1  2018      1           2          1          2   \n",
       "2   2 2018-01-03      1     1  2018      1           3          2          3   \n",
       "3   3 2018-01-04      1     1  2018      1           4          3          4   \n",
       "4   4 2018-01-05      1     1  2018      1           5          4          5   \n",
       "\n",
       "   weekofyear  \n",
       "0           1  \n",
       "1           1  \n",
       "2           1  \n",
       "3           1  \n",
       "4           1  "
      ]
     },
     "execution_count": 7,
     "metadata": {},
     "output_type": "execute_result"
    }
   ],
   "source": [
    "test.head()"
   ]
  },
  {
   "cell_type": "markdown",
   "metadata": {},
   "source": [
    "# eda & feature engineering"
   ]
  },
  {
   "cell_type": "markdown",
   "metadata": {},
   "source": [
    "### sales의 분포"
   ]
  },
  {
   "cell_type": "code",
   "execution_count": 8,
   "metadata": {},
   "outputs": [
    {
     "data": {
      "text/plain": [
       "<matplotlib.axes._subplots.AxesSubplot at 0x1bfed2d9ef0>"
      ]
     },
     "execution_count": 8,
     "metadata": {},
     "output_type": "execute_result"
    },
    {
     "data": {
      "image/png": "[encoded data removed]",
      "text/plain": [
       "<Figure size 720x432 with 1 Axes>"
      ]
     },
     "metadata": {
      "needs_background": "light"
     },
     "output_type": "display_data"
    }
   ],
   "source": [
    "plt.figure(figsize=(10,6))\n",
    "sns.distplot(train['sales'])"
   ]
  },
  {
   "cell_type": "markdown",
   "metadata": {},
   "source": [
    "- sales변수의 분포는 왼쪽으로 치우쳐진 오른쪽으로 꼬리가 긴 분포를 띈다."
   ]
  },
  {
   "cell_type": "markdown",
   "metadata": {},
   "source": [
    "## 각각 년도, 월, 요일, 일에 따른 sales분포이다. "
   ]
  },
  {
   "cell_type": "code",
   "execution_count": 9,
   "metadata": {},
   "outputs": [
    {
     "data": {
      "text/plain": [
       "[Text(0, 0.5, 'sales'),\n",
       " Text(0.5, 0, 'dayofyear'),\n",
       " Text(0.5, 1.0, 'sales of dayofyear')]"
      ]
     },
     "execution_count": 9,
     "metadata": {},
     "output_type": "execute_result"
    },
    {
     "data": {
      "image/png": "[encoded data removed]",
      "text/plain": [
       "<Figure size 1440x1296 with 6 Axes>"
      ]
     },
     "metadata": {
      "needs_background": "light"
     },
     "output_type": "display_data"
    }
   ],
   "source": [
    "fig,ax=plt.subplots(nrows=3,ncols=2)\n",
    "fig.set_size_inches(20,18)\n",
    "\n",
    "sns.barplot(data=train,x='year',y='sales',ax=ax[0,0])\n",
    "sns.barplot(data=train,x='month',y='sales',ax=ax[0,1])\n",
    "sns.barplot(data=train,x='dayofweek',y='sales',ax=ax[1,0])\n",
    "sns.barplot(data=train,x='dayofmonth',y='sales',ax=ax[1,1])\n",
    "sns.barplot(data=train,x='weekofyear',y='sales',ax=ax[2,0])\n",
    "sns.barplot(data=train,x='dayofyear',y='sales',ax=ax[2,1])\n",
    "\n",
    "ax[0,0].set(xlabel='year',ylabel='sales',title='sales of year')\n",
    "ax[0,1].set(xlabel='month',ylabel='sales',title='sales of month')\n",
    "ax[1,0].set(xlabel='dayofweek',ylabel='sales',title='sales of dayofweek')\n",
    "ax[1,1].set(xlabel='dayofmonth',ylabel='sales',title='sales of dayofmonth')\n",
    "ax[2,0].set(xlabel='weekofyear',ylabel='sales',title='sales of weekofyear')\n",
    "ax[2,1].set(xlabel='dayofyear',ylabel='sales',title='sales of dayofyear')"
   ]
  },
  {
   "cell_type": "markdown",
   "metadata": {},
   "source": [
    "## weekofyear변수와 dayofweek변수를 binning 하여 season, weekday변수 생성\n",
    "### season의 범주는 임의대로 설정하였다."
   ]
  },
  {
   "cell_type": "code",
   "execution_count": 10,
   "metadata": {},
   "outputs": [
    {
     "data": {
      "text/html": [
       "<div>\n",
       "<style scoped>\n",
       "    .dataframe tbody tr th:only-of-type {\n",
       "        vertical-align: middle;\n",
       "    }\n",
       "\n",
       "    .dataframe tbody tr th {\n",
       "        vertical-align: top;\n",
       "    }\n",
       "\n",
       "    .dataframe thead th {\n",
       "        text-align: right;\n",
       "    }\n",
       "</style>\n",
       "<table border=\"1\" class=\"dataframe\">\n",
       "  <thead>\n",
       "    <tr style=\"text-align: right;\">\n",
       "      <th></th>\n",
       "      <th>date</th>\n",
       "      <th>store</th>\n",
       "      <th>item</th>\n",
       "      <th>sales</th>\n",
       "      <th>year</th>\n",
       "      <th>month</th>\n",
       "      <th>dayofmonth</th>\n",
       "      <th>dayofweek</th>\n",
       "      <th>dayofyear</th>\n",
       "      <th>weekofyear</th>\n",
       "      <th>season</th>\n",
       "      <th>weekday</th>\n",
       "    </tr>\n",
       "  </thead>\n",
       "  <tbody>\n",
       "    <tr>\n",
       "      <th>0</th>\n",
       "      <td>2013-01-01</td>\n",
       "      <td>1</td>\n",
       "      <td>1</td>\n",
       "      <td>13</td>\n",
       "      <td>2013</td>\n",
       "      <td>1</td>\n",
       "      <td>1</td>\n",
       "      <td>1</td>\n",
       "      <td>1</td>\n",
       "      <td>1</td>\n",
       "      <td>1.0</td>\n",
       "      <td>1.0</td>\n",
       "    </tr>\n",
       "    <tr>\n",
       "      <th>1</th>\n",
       "      <td>2013-01-02</td>\n",
       "      <td>1</td>\n",
       "      <td>1</td>\n",
       "      <td>11</td>\n",
       "      <td>2013</td>\n",
       "      <td>1</td>\n",
       "      <td>2</td>\n",
       "      <td>2</td>\n",
       "      <td>2</td>\n",
       "      <td>1</td>\n",
       "      <td>1.0</td>\n",
       "      <td>1.0</td>\n",
       "    </tr>\n",
       "    <tr>\n",
       "      <th>2</th>\n",
       "      <td>2013-01-03</td>\n",
       "      <td>1</td>\n",
       "      <td>1</td>\n",
       "      <td>14</td>\n",
       "      <td>2013</td>\n",
       "      <td>1</td>\n",
       "      <td>3</td>\n",
       "      <td>3</td>\n",
       "      <td>3</td>\n",
       "      <td>1</td>\n",
       "      <td>1.0</td>\n",
       "      <td>1.0</td>\n",
       "    </tr>\n",
       "    <tr>\n",
       "      <th>3</th>\n",
       "      <td>2013-01-04</td>\n",
       "      <td>1</td>\n",
       "      <td>1</td>\n",
       "      <td>13</td>\n",
       "      <td>2013</td>\n",
       "      <td>1</td>\n",
       "      <td>4</td>\n",
       "      <td>4</td>\n",
       "      <td>4</td>\n",
       "      <td>1</td>\n",
       "      <td>1.0</td>\n",
       "      <td>1.0</td>\n",
       "    </tr>\n",
       "    <tr>\n",
       "      <th>4</th>\n",
       "      <td>2013-01-05</td>\n",
       "      <td>1</td>\n",
       "      <td>1</td>\n",
       "      <td>10</td>\n",
       "      <td>2013</td>\n",
       "      <td>1</td>\n",
       "      <td>5</td>\n",
       "      <td>5</td>\n",
       "      <td>5</td>\n",
       "      <td>1</td>\n",
       "      <td>1.0</td>\n",
       "      <td>0.0</td>\n",
       "    </tr>\n",
       "  </tbody>\n",
       "</table>\n",
       "</div>"
      ],
      "text/plain": [
       "        date  store  item  sales  year  month  dayofmonth  dayofweek  \\\n",
       "0 2013-01-01      1     1     13  2013      1           1          1   \n",
       "1 2013-01-02      1     1     11  2013      1           2          2   \n",
       "2 2013-01-03      1     1     14  2013      1           3          3   \n",
       "3 2013-01-04      1     1     13  2013      1           4          4   \n",
       "4 2013-01-05      1     1     10  2013      1           5          5   \n",
       "\n",
       "   dayofyear  weekofyear  season  weekday  \n",
       "0          1           1     1.0      1.0  \n",
       "1          2           1     1.0      1.0  \n",
       "2          3           1     1.0      1.0  \n",
       "3          4           1     1.0      1.0  \n",
       "4          5           1     1.0      0.0  "
      ]
     },
     "execution_count": 10,
     "metadata": {},
     "output_type": "execute_result"
    }
   ],
   "source": [
    "for df in [train]:\n",
    "    df.loc[(df['weekofyear']<=9) | (df['weekofyear']>=49),'season'] = 1  # wintet\n",
    "    df.loc[(df['weekofyear']>9) & (df['weekofyear']<=22),'season'] = 2   # spring\n",
    "    df.loc[(df['weekofyear']>22) & (df['weekofyear']<=35),'season'] = 3  # summer\n",
    "    df.loc[(df['weekofyear']>35) & (df['weekofyear']<=48),'season'] = 4  # fall\n",
    "    \n",
    "    df.loc[df['dayofweek']<=4,'weekday'] = 1  # weekday\n",
    "    df.loc[df['dayofweek']>4,'weekday'] = 0   # weekend\n",
    "train.head()"
   ]
  },
  {
   "cell_type": "markdown",
   "metadata": {},
   "source": [
    "## item별 store별 sales의 분포"
   ]
  },
  {
   "cell_type": "code",
   "execution_count": 11,
   "metadata": {},
   "outputs": [
    {
     "data": {
      "text/plain": [
       "[Text(0, 0.5, 'sales'),\n",
       " Text(0.5, 0, 'store'),\n",
       " Text(0.5, 1.0, 'Mean sales by store')]"
      ]
     },
     "execution_count": 11,
     "metadata": {},
     "output_type": "execute_result"
    },
    {
     "data": {
      "image/png": "[encoded data removed]",
      "text/plain": [
       "<Figure size 1080x1080 with 2 Axes>"
      ]
     },
     "metadata": {
      "needs_background": "light"
     },
     "output_type": "display_data"
    }
   ],
   "source": [
    "itemgroup=train.groupby(['item']).mean()\n",
    "storegroup=train.groupby(['store']).mean()\n",
    "\n",
    "fig,ax=plt.subplots(nrows=2,ncols=1)\n",
    "fig.set_size_inches(15,15)\n",
    "\n",
    "sns.barplot(data=itemgroup,x=itemgroup.index,y='sales',ax=ax[0])\n",
    "sns.barplot(data=storegroup,x=storegroup.index,y='sales',ax=ax[1])\n",
    "\n",
    "ax[0].set(xlabel='item',ylabel='sales',title='Mean sales by item')\n",
    "ax[1].set(xlabel='store',ylabel='sales',title='Mean sales by store')"
   ]
  },
  {
   "cell_type": "markdown",
   "metadata": {},
   "source": [
    "## store별 월별 total sales 분포"
   ]
  },
  {
   "cell_type": "code",
   "execution_count": 13,
   "metadata": {},
   "outputs": [
    {
     "data": {
      "image/png": "[encoded data removed]",
      "text/plain": [
       "<Figure size 1008x576 with 1 Axes>"
      ]
     },
     "metadata": {
      "needs_background": "light"
     },
     "output_type": "display_data"
    }
   ],
   "source": [
    "for i in range(1,11):\n",
    "    month_df = train[train['store']==i].resample('M',on='date').sum()\n",
    "    x = np.array(month_df.index)\n",
    "    y = np.array(month_df.sales)\n",
    "    plt.plot(x,y,label = 'store %s' % i)\n",
    "plt.legend(loc='center left', bbox_to_anchor=(1,0.5))\n",
    "plt.rcParams[\"figure.figsize\"] = (14,8)\n",
    "plt.rcParams['lines.linewidth'] = 0.1\n",
    "plt.title(\"Total sales by month\")\n",
    "plt.show()"
   ]
  },
  {
   "cell_type": "markdown",
   "metadata": {},
   "source": [
    "## boxplot으로 본 sales 분포"
   ]
  },
  {
   "cell_type": "code",
   "execution_count": 14,
   "metadata": {},
   "outputs": [
    {
     "data": {
      "text/plain": [
       "[Text(0, 0.5, 'sales'),\n",
       " Text(0.5, 0, 'dayofmonth'),\n",
       " Text(0.5, 1.0, 'sales of dayofmonth')]"
      ]
     },
     "execution_count": 14,
     "metadata": {},
     "output_type": "execute_result"
    },
    {
     "data": {
      "image/png": "[encoded data removed]",
      "text/plain": [
       "<Figure size 864x720 with 4 Axes>"
      ]
     },
     "metadata": {
      "needs_background": "light"
     },
     "output_type": "display_data"
    }
   ],
   "source": [
    "fig,ax=plt.subplots(nrows=2,ncols=2)\n",
    "fig.set_size_inches(12,10)\n",
    "sns.boxplot(data=train,y='sales',orient='v',ax=ax[0,0])\n",
    "sns.boxplot(data=train,y='sales',x='season',orient='v',ax=ax[0,1])\n",
    "sns.boxplot(data=train,y='sales',x='weekday',orient='v',ax=ax[1,0])\n",
    "sns.boxplot(data=train,y='sales',x='dayofmonth',orient='v',ax=ax[1,1])\n",
    "\n",
    "ax[0,0].set(ylabel='sales',title = 'sales')\n",
    "ax[0,1].set(xlabel='season',ylabel='sales',title='sales of season')\n",
    "ax[1,0].set(xlabel='weekday',ylabel='sales',title='sales of weekday')\n",
    "ax[1,1].set(xlabel='dayofmonth',ylabel='sales',title='sales of dayofmonth')"
   ]
  },
  {
   "cell_type": "code",
   "execution_count": null,
   "metadata": {},
   "outputs": [],
   "source": []
  },
  {
   "cell_type": "markdown",
   "metadata": {},
   "source": [
    "## train 데이터와 test 데이터를 합쳐서 전처리한다.(pd.concat() 함수 사용하여 위아래로 합침)\n",
    "### index 중복은 발생하지만 순서만 바뀌지 않으면 상관없고, 날짜가 다르기 때문에 상관없다.\n",
    "### test 데이터셋에는 sales변수가 없어서 파생변수를 만들 때 결측값으로 들어가기 때문에 합쳐서 전처리해준다. 이는 후에 자세히 설명한다."
   ]
  },
  {
   "cell_type": "code",
   "execution_count": 16,
   "metadata": {},
   "outputs": [],
   "source": [
    "train = pd.read_csv('train.csv')\n",
    "test = pd.read_csv('test.csv')"
   ]
  },
  {
   "cell_type": "code",
   "execution_count": 17,
   "metadata": {
    "scrolled": true
   },
   "outputs": [
    {
     "data": {
      "text/html": [
       "<div>\n",
       "<style scoped>\n",
       "    .dataframe tbody tr th:only-of-type {\n",
       "        vertical-align: middle;\n",
       "    }\n",
       "\n",
       "    .dataframe tbody tr th {\n",
       "        vertical-align: top;\n",
       "    }\n",
       "\n",
       "    .dataframe thead th {\n",
       "        text-align: right;\n",
       "    }\n",
       "</style>\n",
       "<table border=\"1\" class=\"dataframe\">\n",
       "  <thead>\n",
       "    <tr style=\"text-align: right;\">\n",
       "      <th></th>\n",
       "      <th>date</th>\n",
       "      <th>id</th>\n",
       "      <th>item</th>\n",
       "      <th>sales</th>\n",
       "      <th>store</th>\n",
       "    </tr>\n",
       "  </thead>\n",
       "  <tbody>\n",
       "    <tr>\n",
       "      <th>0</th>\n",
       "      <td>2013-01-01</td>\n",
       "      <td>NaN</td>\n",
       "      <td>1</td>\n",
       "      <td>13.0</td>\n",
       "      <td>1</td>\n",
       "    </tr>\n",
       "    <tr>\n",
       "      <th>1</th>\n",
       "      <td>2013-01-02</td>\n",
       "      <td>NaN</td>\n",
       "      <td>1</td>\n",
       "      <td>11.0</td>\n",
       "      <td>1</td>\n",
       "    </tr>\n",
       "    <tr>\n",
       "      <th>2</th>\n",
       "      <td>2013-01-03</td>\n",
       "      <td>NaN</td>\n",
       "      <td>1</td>\n",
       "      <td>14.0</td>\n",
       "      <td>1</td>\n",
       "    </tr>\n",
       "    <tr>\n",
       "      <th>3</th>\n",
       "      <td>2013-01-04</td>\n",
       "      <td>NaN</td>\n",
       "      <td>1</td>\n",
       "      <td>13.0</td>\n",
       "      <td>1</td>\n",
       "    </tr>\n",
       "    <tr>\n",
       "      <th>4</th>\n",
       "      <td>2013-01-05</td>\n",
       "      <td>NaN</td>\n",
       "      <td>1</td>\n",
       "      <td>10.0</td>\n",
       "      <td>1</td>\n",
       "    </tr>\n",
       "  </tbody>\n",
       "</table>\n",
       "</div>"
      ],
      "text/plain": [
       "         date  id  item  sales  store\n",
       "0  2013-01-01 NaN     1   13.0      1\n",
       "1  2013-01-02 NaN     1   11.0      1\n",
       "2  2013-01-03 NaN     1   14.0      1\n",
       "3  2013-01-04 NaN     1   13.0      1\n",
       "4  2013-01-05 NaN     1   10.0      1"
      ]
     },
     "execution_count": 17,
     "metadata": {},
     "output_type": "execute_result"
    }
   ],
   "source": [
    "sid = pd.concat([train,test])\n",
    "sid.head()"
   ]
  },
  {
   "cell_type": "markdown",
   "metadata": {},
   "source": [
    "## 위에서 했던 전처리 작업 다시 수행"
   ]
  },
  {
   "cell_type": "code",
   "execution_count": 18,
   "metadata": {},
   "outputs": [
    {
     "data": {
      "text/html": [
       "<div>\n",
       "<style scoped>\n",
       "    .dataframe tbody tr th:only-of-type {\n",
       "        vertical-align: middle;\n",
       "    }\n",
       "\n",
       "    .dataframe tbody tr th {\n",
       "        vertical-align: top;\n",
       "    }\n",
       "\n",
       "    .dataframe thead th {\n",
       "        text-align: right;\n",
       "    }\n",
       "</style>\n",
       "<table border=\"1\" class=\"dataframe\">\n",
       "  <thead>\n",
       "    <tr style=\"text-align: right;\">\n",
       "      <th></th>\n",
       "      <th>date</th>\n",
       "      <th>id</th>\n",
       "      <th>item</th>\n",
       "      <th>sales</th>\n",
       "      <th>store</th>\n",
       "      <th>dayofmonth</th>\n",
       "      <th>month</th>\n",
       "      <th>dayofweek</th>\n",
       "      <th>year</th>\n",
       "      <th>weekofyear</th>\n",
       "      <th>dayofyear</th>\n",
       "    </tr>\n",
       "  </thead>\n",
       "  <tbody>\n",
       "    <tr>\n",
       "      <th>0</th>\n",
       "      <td>2013-01-01</td>\n",
       "      <td>NaN</td>\n",
       "      <td>1</td>\n",
       "      <td>13.0</td>\n",
       "      <td>1</td>\n",
       "      <td>1</td>\n",
       "      <td>1</td>\n",
       "      <td>1</td>\n",
       "      <td>2013</td>\n",
       "      <td>1</td>\n",
       "      <td>1</td>\n",
       "    </tr>\n",
       "    <tr>\n",
       "      <th>1</th>\n",
       "      <td>2013-01-02</td>\n",
       "      <td>NaN</td>\n",
       "      <td>1</td>\n",
       "      <td>11.0</td>\n",
       "      <td>1</td>\n",
       "      <td>2</td>\n",
       "      <td>1</td>\n",
       "      <td>2</td>\n",
       "      <td>2013</td>\n",
       "      <td>1</td>\n",
       "      <td>2</td>\n",
       "    </tr>\n",
       "    <tr>\n",
       "      <th>2</th>\n",
       "      <td>2013-01-03</td>\n",
       "      <td>NaN</td>\n",
       "      <td>1</td>\n",
       "      <td>14.0</td>\n",
       "      <td>1</td>\n",
       "      <td>3</td>\n",
       "      <td>1</td>\n",
       "      <td>3</td>\n",
       "      <td>2013</td>\n",
       "      <td>1</td>\n",
       "      <td>3</td>\n",
       "    </tr>\n",
       "    <tr>\n",
       "      <th>3</th>\n",
       "      <td>2013-01-04</td>\n",
       "      <td>NaN</td>\n",
       "      <td>1</td>\n",
       "      <td>13.0</td>\n",
       "      <td>1</td>\n",
       "      <td>4</td>\n",
       "      <td>1</td>\n",
       "      <td>4</td>\n",
       "      <td>2013</td>\n",
       "      <td>1</td>\n",
       "      <td>4</td>\n",
       "    </tr>\n",
       "    <tr>\n",
       "      <th>4</th>\n",
       "      <td>2013-01-05</td>\n",
       "      <td>NaN</td>\n",
       "      <td>1</td>\n",
       "      <td>10.0</td>\n",
       "      <td>1</td>\n",
       "      <td>5</td>\n",
       "      <td>1</td>\n",
       "      <td>5</td>\n",
       "      <td>2013</td>\n",
       "      <td>1</td>\n",
       "      <td>5</td>\n",
       "    </tr>\n",
       "  </tbody>\n",
       "</table>\n",
       "</div>"
      ],
      "text/plain": [
       "        date  id  item  sales  store  dayofmonth  month  dayofweek  year  \\\n",
       "0 2013-01-01 NaN     1   13.0      1           1      1          1  2013   \n",
       "1 2013-01-02 NaN     1   11.0      1           2      1          2  2013   \n",
       "2 2013-01-03 NaN     1   14.0      1           3      1          3  2013   \n",
       "3 2013-01-04 NaN     1   13.0      1           4      1          4  2013   \n",
       "4 2013-01-05 NaN     1   10.0      1           5      1          5  2013   \n",
       "\n",
       "   weekofyear  dayofyear  \n",
       "0           1          1  \n",
       "1           1          2  \n",
       "2           1          3  \n",
       "3           1          4  \n",
       "4           1          5  "
      ]
     },
     "execution_count": 18,
     "metadata": {},
     "output_type": "execute_result"
    }
   ],
   "source": [
    "sid['date'] = pd.to_datetime(sid['date'])\n",
    "sid['dayofmonth'] = sid['date'].dt.day\n",
    "sid['month'] = sid['date'].dt.month\n",
    "sid['dayofweek'] = sid['date'].dt.dayofweek\n",
    "sid['year'] = sid['date'].dt.year\n",
    "sid['weekofyear'] = sid['date'].dt.weekofyear\n",
    "sid['dayofyear'] = sid['date'].dt.dayofyear\n",
    "sid.head()"
   ]
  },
  {
   "cell_type": "code",
   "execution_count": 19,
   "metadata": {},
   "outputs": [],
   "source": [
    "for df in [sid]:\n",
    "    df.loc[(df['weekofyear']<=9) | (df['weekofyear']>=49),'season'] = 1 # winter\n",
    "    df.loc[(df['weekofyear']>9) & (df['weekofyear']<=22),'season'] = 2  # spring\n",
    "    df.loc[(df['weekofyear']>22) & (df['weekofyear']<=35),'season'] = 3 # summer\n",
    "    df.loc[(df['weekofyear']>35) & (df['weekofyear']<=48),'season'] = 4 # fall\n",
    "    df.loc[df['dayofweek']<=4,'weekday'] = 1\n",
    "    df.loc[df['dayofweek']>4,'weekday'] = 0"
   ]
  },
  {
   "cell_type": "markdown",
   "metadata": {},
   "source": [
    "## 함수설명점 ㅎ\n",
    "### 이 함수를 써서 파생변수를 만들 때 test 데이터셋에는 sales변수가 없어서 NaN이 들어가게 된다. 그래서 train과 test를 합쳐서 NaN값이 들어가지 않게 했다."
   ]
  },
  {
   "cell_type": "code",
   "execution_count": 20,
   "metadata": {},
   "outputs": [],
   "source": [
    "def mean_cols(data,cols):\n",
    "    for i in cols:\n",
    "        data['mean_'+i] = data.groupby(['item','store',i])['sales'].transform('mean')\n",
    "    return data"
   ]
  },
  {
   "cell_type": "markdown",
   "metadata": {},
   "source": [
    "### 만든 함수를 적용해 파생변수를 만든다."
   ]
  },
  {
   "cell_type": "code",
   "execution_count": 21,
   "metadata": {
    "scrolled": true
   },
   "outputs": [
    {
     "data": {
      "text/plain": [
       "Index(['date', 'id', 'item', 'sales', 'store', 'dayofmonth', 'month',\n",
       "       'dayofweek', 'year', 'weekofyear', 'dayofyear', 'season', 'weekday',\n",
       "       'mean_dayofweek', 'mean_weekofyear', 'mean_month', 'mean_season',\n",
       "       'mean_weekday'],\n",
       "      dtype='object')"
      ]
     },
     "execution_count": 21,
     "metadata": {},
     "output_type": "execute_result"
    }
   ],
   "source": [
    "mean_cols(sid,['dayofweek','weekofyear','month','season','weekday'])\n",
    "sid.columns"
   ]
  },
  {
   "cell_type": "code",
   "execution_count": 22,
   "metadata": {},
   "outputs": [
    {
     "data": {
      "text/plain": [
       "date                    0\n",
       "id                 913000\n",
       "item                    0\n",
       "sales               45000\n",
       "store                   0\n",
       "dayofmonth              0\n",
       "month                   0\n",
       "dayofweek               0\n",
       "year                    0\n",
       "weekofyear              0\n",
       "dayofyear               0\n",
       "season                  0\n",
       "weekday                 0\n",
       "mean_dayofweek          0\n",
       "mean_weekofyear         0\n",
       "mean_month              0\n",
       "mean_season             0\n",
       "mean_weekday            0\n",
       "dtype: int64"
      ]
     },
     "execution_count": 22,
     "metadata": {},
     "output_type": "execute_result"
    }
   ],
   "source": [
    "sid.isna().sum()"
   ]
  },
  {
   "cell_type": "code",
   "execution_count": 23,
   "metadata": {
    "scrolled": true
   },
   "outputs": [
    {
     "data": {
      "text/html": [
       "<div>\n",
       "<style scoped>\n",
       "    .dataframe tbody tr th:only-of-type {\n",
       "        vertical-align: middle;\n",
       "    }\n",
       "\n",
       "    .dataframe tbody tr th {\n",
       "        vertical-align: top;\n",
       "    }\n",
       "\n",
       "    .dataframe thead th {\n",
       "        text-align: right;\n",
       "    }\n",
       "</style>\n",
       "<table border=\"1\" class=\"dataframe\">\n",
       "  <thead>\n",
       "    <tr style=\"text-align: right;\">\n",
       "      <th></th>\n",
       "      <th>date</th>\n",
       "      <th>id</th>\n",
       "      <th>item</th>\n",
       "      <th>sales</th>\n",
       "      <th>store</th>\n",
       "      <th>dayofmonth</th>\n",
       "      <th>month</th>\n",
       "      <th>dayofweek</th>\n",
       "      <th>year</th>\n",
       "      <th>weekofyear</th>\n",
       "      <th>dayofyear</th>\n",
       "      <th>season</th>\n",
       "      <th>weekday</th>\n",
       "      <th>mean_dayofweek</th>\n",
       "      <th>mean_weekofyear</th>\n",
       "      <th>mean_month</th>\n",
       "      <th>mean_season</th>\n",
       "      <th>mean_weekday</th>\n",
       "    </tr>\n",
       "  </thead>\n",
       "  <tbody>\n",
       "    <tr>\n",
       "      <th>0</th>\n",
       "      <td>2013-01-01</td>\n",
       "      <td>NaN</td>\n",
       "      <td>1</td>\n",
       "      <td>13.0</td>\n",
       "      <td>1</td>\n",
       "      <td>1</td>\n",
       "      <td>1</td>\n",
       "      <td>1</td>\n",
       "      <td>2013</td>\n",
       "      <td>1</td>\n",
       "      <td>1</td>\n",
       "      <td>1.0</td>\n",
       "      <td>1.0</td>\n",
       "      <td>18.168582</td>\n",
       "      <td>13.970588</td>\n",
       "      <td>13.709677</td>\n",
       "      <td>14.401302</td>\n",
       "      <td>18.605061</td>\n",
       "    </tr>\n",
       "    <tr>\n",
       "      <th>1</th>\n",
       "      <td>2013-01-02</td>\n",
       "      <td>NaN</td>\n",
       "      <td>1</td>\n",
       "      <td>11.0</td>\n",
       "      <td>1</td>\n",
       "      <td>2</td>\n",
       "      <td>1</td>\n",
       "      <td>2</td>\n",
       "      <td>2013</td>\n",
       "      <td>1</td>\n",
       "      <td>2</td>\n",
       "      <td>1.0</td>\n",
       "      <td>1.0</td>\n",
       "      <td>18.793103</td>\n",
       "      <td>13.970588</td>\n",
       "      <td>13.709677</td>\n",
       "      <td>14.401302</td>\n",
       "      <td>18.605061</td>\n",
       "    </tr>\n",
       "    <tr>\n",
       "      <th>2</th>\n",
       "      <td>2013-01-03</td>\n",
       "      <td>NaN</td>\n",
       "      <td>1</td>\n",
       "      <td>14.0</td>\n",
       "      <td>1</td>\n",
       "      <td>3</td>\n",
       "      <td>1</td>\n",
       "      <td>3</td>\n",
       "      <td>2013</td>\n",
       "      <td>1</td>\n",
       "      <td>3</td>\n",
       "      <td>1.0</td>\n",
       "      <td>1.0</td>\n",
       "      <td>19.452107</td>\n",
       "      <td>13.970588</td>\n",
       "      <td>13.709677</td>\n",
       "      <td>14.401302</td>\n",
       "      <td>18.605061</td>\n",
       "    </tr>\n",
       "    <tr>\n",
       "      <th>3</th>\n",
       "      <td>2013-01-04</td>\n",
       "      <td>NaN</td>\n",
       "      <td>1</td>\n",
       "      <td>13.0</td>\n",
       "      <td>1</td>\n",
       "      <td>4</td>\n",
       "      <td>1</td>\n",
       "      <td>4</td>\n",
       "      <td>2013</td>\n",
       "      <td>1</td>\n",
       "      <td>4</td>\n",
       "      <td>1.0</td>\n",
       "      <td>1.0</td>\n",
       "      <td>21.015326</td>\n",
       "      <td>13.970588</td>\n",
       "      <td>13.709677</td>\n",
       "      <td>14.401302</td>\n",
       "      <td>18.605061</td>\n",
       "    </tr>\n",
       "    <tr>\n",
       "      <th>4</th>\n",
       "      <td>2013-01-05</td>\n",
       "      <td>NaN</td>\n",
       "      <td>1</td>\n",
       "      <td>10.0</td>\n",
       "      <td>1</td>\n",
       "      <td>5</td>\n",
       "      <td>1</td>\n",
       "      <td>5</td>\n",
       "      <td>2013</td>\n",
       "      <td>1</td>\n",
       "      <td>5</td>\n",
       "      <td>1.0</td>\n",
       "      <td>0.0</td>\n",
       "      <td>22.973180</td>\n",
       "      <td>13.970588</td>\n",
       "      <td>13.709677</td>\n",
       "      <td>14.401302</td>\n",
       "      <td>23.385057</td>\n",
       "    </tr>\n",
       "  </tbody>\n",
       "</table>\n",
       "</div>"
      ],
      "text/plain": [
       "        date  id  item  sales  store  dayofmonth  month  dayofweek  year  \\\n",
       "0 2013-01-01 NaN     1   13.0      1           1      1          1  2013   \n",
       "1 2013-01-02 NaN     1   11.0      1           2      1          2  2013   \n",
       "2 2013-01-03 NaN     1   14.0      1           3      1          3  2013   \n",
       "3 2013-01-04 NaN     1   13.0      1           4      1          4  2013   \n",
       "4 2013-01-05 NaN     1   10.0      1           5      1          5  2013   \n",
       "\n",
       "   weekofyear  dayofyear  season  weekday  mean_dayofweek  mean_weekofyear  \\\n",
       "0           1          1     1.0      1.0       18.168582        13.970588   \n",
       "1           1          2     1.0      1.0       18.793103        13.970588   \n",
       "2           1          3     1.0      1.0       19.452107        13.970588   \n",
       "3           1          4     1.0      1.0       21.015326        13.970588   \n",
       "4           1          5     1.0      0.0       22.973180        13.970588   \n",
       "\n",
       "   mean_month  mean_season  mean_weekday  \n",
       "0   13.709677    14.401302     18.605061  \n",
       "1   13.709677    14.401302     18.605061  \n",
       "2   13.709677    14.401302     18.605061  \n",
       "3   13.709677    14.401302     18.605061  \n",
       "4   13.709677    14.401302     23.385057  "
      ]
     },
     "execution_count": 23,
     "metadata": {},
     "output_type": "execute_result"
    }
   ],
   "source": [
    "sid.head()"
   ]
  },
  {
   "cell_type": "code",
   "execution_count": 24,
   "metadata": {},
   "outputs": [
    {
     "data": {
      "text/html": [
       "<div>\n",
       "<style scoped>\n",
       "    .dataframe tbody tr th:only-of-type {\n",
       "        vertical-align: middle;\n",
       "    }\n",
       "\n",
       "    .dataframe tbody tr th {\n",
       "        vertical-align: top;\n",
       "    }\n",
       "\n",
       "    .dataframe thead th {\n",
       "        text-align: right;\n",
       "    }\n",
       "</style>\n",
       "<table border=\"1\" class=\"dataframe\">\n",
       "  <thead>\n",
       "    <tr style=\"text-align: right;\">\n",
       "      <th></th>\n",
       "      <th>date</th>\n",
       "      <th>id</th>\n",
       "      <th>item</th>\n",
       "      <th>sales</th>\n",
       "      <th>store</th>\n",
       "      <th>dayofmonth</th>\n",
       "      <th>month</th>\n",
       "      <th>dayofweek</th>\n",
       "      <th>year</th>\n",
       "      <th>weekofyear</th>\n",
       "      <th>dayofyear</th>\n",
       "      <th>season</th>\n",
       "      <th>weekday</th>\n",
       "      <th>mean_dayofweek</th>\n",
       "      <th>mean_weekofyear</th>\n",
       "      <th>mean_month</th>\n",
       "      <th>mean_season</th>\n",
       "      <th>mean_weekday</th>\n",
       "    </tr>\n",
       "  </thead>\n",
       "  <tbody>\n",
       "    <tr>\n",
       "      <th>44995</th>\n",
       "      <td>2018-03-27</td>\n",
       "      <td>44995.0</td>\n",
       "      <td>50</td>\n",
       "      <td>NaN</td>\n",
       "      <td>10</td>\n",
       "      <td>27</td>\n",
       "      <td>3</td>\n",
       "      <td>1</td>\n",
       "      <td>2018</td>\n",
       "      <td>13</td>\n",
       "      <td>86</td>\n",
       "      <td>2.0</td>\n",
       "      <td>1.0</td>\n",
       "      <td>67.777778</td>\n",
       "      <td>68.771429</td>\n",
       "      <td>67.780645</td>\n",
       "      <td>77.314286</td>\n",
       "      <td>69.480828</td>\n",
       "    </tr>\n",
       "    <tr>\n",
       "      <th>44996</th>\n",
       "      <td>2018-03-28</td>\n",
       "      <td>44996.0</td>\n",
       "      <td>50</td>\n",
       "      <td>NaN</td>\n",
       "      <td>10</td>\n",
       "      <td>28</td>\n",
       "      <td>3</td>\n",
       "      <td>2</td>\n",
       "      <td>2018</td>\n",
       "      <td>13</td>\n",
       "      <td>87</td>\n",
       "      <td>2.0</td>\n",
       "      <td>1.0</td>\n",
       "      <td>68.823755</td>\n",
       "      <td>68.771429</td>\n",
       "      <td>67.780645</td>\n",
       "      <td>77.314286</td>\n",
       "      <td>69.480828</td>\n",
       "    </tr>\n",
       "    <tr>\n",
       "      <th>44997</th>\n",
       "      <td>2018-03-29</td>\n",
       "      <td>44997.0</td>\n",
       "      <td>50</td>\n",
       "      <td>NaN</td>\n",
       "      <td>10</td>\n",
       "      <td>29</td>\n",
       "      <td>3</td>\n",
       "      <td>3</td>\n",
       "      <td>2018</td>\n",
       "      <td>13</td>\n",
       "      <td>88</td>\n",
       "      <td>2.0</td>\n",
       "      <td>1.0</td>\n",
       "      <td>73.532567</td>\n",
       "      <td>68.771429</td>\n",
       "      <td>67.780645</td>\n",
       "      <td>77.314286</td>\n",
       "      <td>69.480828</td>\n",
       "    </tr>\n",
       "    <tr>\n",
       "      <th>44998</th>\n",
       "      <td>2018-03-30</td>\n",
       "      <td>44998.0</td>\n",
       "      <td>50</td>\n",
       "      <td>NaN</td>\n",
       "      <td>10</td>\n",
       "      <td>30</td>\n",
       "      <td>3</td>\n",
       "      <td>4</td>\n",
       "      <td>2018</td>\n",
       "      <td>13</td>\n",
       "      <td>89</td>\n",
       "      <td>2.0</td>\n",
       "      <td>1.0</td>\n",
       "      <td>78.275862</td>\n",
       "      <td>68.771429</td>\n",
       "      <td>67.780645</td>\n",
       "      <td>77.314286</td>\n",
       "      <td>69.480828</td>\n",
       "    </tr>\n",
       "    <tr>\n",
       "      <th>44999</th>\n",
       "      <td>2018-03-31</td>\n",
       "      <td>44999.0</td>\n",
       "      <td>50</td>\n",
       "      <td>NaN</td>\n",
       "      <td>10</td>\n",
       "      <td>31</td>\n",
       "      <td>3</td>\n",
       "      <td>5</td>\n",
       "      <td>2018</td>\n",
       "      <td>13</td>\n",
       "      <td>90</td>\n",
       "      <td>2.0</td>\n",
       "      <td>0.0</td>\n",
       "      <td>82.854406</td>\n",
       "      <td>68.771429</td>\n",
       "      <td>67.780645</td>\n",
       "      <td>77.314286</td>\n",
       "      <td>85.419540</td>\n",
       "    </tr>\n",
       "  </tbody>\n",
       "</table>\n",
       "</div>"
      ],
      "text/plain": [
       "            date       id  item  sales  store  dayofmonth  month  dayofweek  \\\n",
       "44995 2018-03-27  44995.0    50    NaN     10          27      3          1   \n",
       "44996 2018-03-28  44996.0    50    NaN     10          28      3          2   \n",
       "44997 2018-03-29  44997.0    50    NaN     10          29      3          3   \n",
       "44998 2018-03-30  44998.0    50    NaN     10          30      3          4   \n",
       "44999 2018-03-31  44999.0    50    NaN     10          31      3          5   \n",
       "\n",
       "       year  weekofyear  dayofyear  season  weekday  mean_dayofweek  \\\n",
       "44995  2018          13         86     2.0      1.0       67.777778   \n",
       "44996  2018          13         87     2.0      1.0       68.823755   \n",
       "44997  2018          13         88     2.0      1.0       73.532567   \n",
       "44998  2018          13         89     2.0      1.0       78.275862   \n",
       "44999  2018          13         90     2.0      0.0       82.854406   \n",
       "\n",
       "       mean_weekofyear  mean_month  mean_season  mean_weekday  \n",
       "44995        68.771429   67.780645    77.314286     69.480828  \n",
       "44996        68.771429   67.780645    77.314286     69.480828  \n",
       "44997        68.771429   67.780645    77.314286     69.480828  \n",
       "44998        68.771429   67.780645    77.314286     69.480828  \n",
       "44999        68.771429   67.780645    77.314286     85.419540  "
      ]
     },
     "execution_count": 24,
     "metadata": {},
     "output_type": "execute_result"
    }
   ],
   "source": [
    "sid.tail()"
   ]
  },
  {
   "cell_type": "markdown",
   "metadata": {},
   "source": [
    "### 합쳤던 데이터셋을 다시 train과 test로 나눈다."
   ]
  },
  {
   "cell_type": "code",
   "execution_count": 30,
   "metadata": {},
   "outputs": [],
   "source": [
    "train = sid.loc[~df['sales'].isna()]\n",
    "test = sid.loc[df['sales'].isna()]"
   ]
  },
  {
   "cell_type": "code",
   "execution_count": 31,
   "metadata": {},
   "outputs": [
    {
     "name": "stdout",
     "output_type": "stream",
     "text": [
      "(913000, 18) (45000, 18)\n"
     ]
    }
   ],
   "source": [
    "print(train.shape,test.shape)"
   ]
  },
  {
   "cell_type": "markdown",
   "metadata": {},
   "source": [
    "### 사용하지 않을 변수들은 지우고, sales변수는 y로 지정해준다."
   ]
  },
  {
   "cell_type": "code",
   "execution_count": 32,
   "metadata": {},
   "outputs": [],
   "source": [
    "x_train = train.drop(['date','sales','id'],axis=1)\n",
    "y_train = train['sales'].values\n",
    "x_test = test.drop(['date','sales','id'],axis=1)"
   ]
  },
  {
   "cell_type": "code",
   "execution_count": 33,
   "metadata": {
    "scrolled": true
   },
   "outputs": [
    {
     "data": {
      "text/plain": [
       "item               0\n",
       "store              0\n",
       "dayofmonth         0\n",
       "month              0\n",
       "dayofweek          0\n",
       "year               0\n",
       "weekofyear         0\n",
       "dayofyear          0\n",
       "season             0\n",
       "weekday            0\n",
       "mean_dayofweek     0\n",
       "mean_weekofyear    0\n",
       "mean_month         0\n",
       "mean_season        0\n",
       "mean_weekday       0\n",
       "dtype: int64"
      ]
     },
     "execution_count": 33,
     "metadata": {},
     "output_type": "execute_result"
    }
   ],
   "source": [
    "x_train.isnull().sum()"
   ]
  },
  {
   "cell_type": "markdown",
   "metadata": {},
   "source": [
    "# Modeling"
   ]
  },
  {
   "cell_type": "code",
   "execution_count": 23,
   "metadata": {},
   "outputs": [
    {
     "name": "stdout",
     "output_type": "stream",
     "text": [
      "[0]\ttrain-mae:46.5883\n",
      "Will train until train-mae hasn't improved in 50 rounds.\n",
      "[50]\ttrain-mae:4.0867\n",
      "[100]\ttrain-mae:3.52866\n",
      "[150]\ttrain-mae:3.35318\n",
      "[199]\ttrain-mae:3.25543\n"
     ]
    }
   ],
   "source": [
    "import xgboost as xgb\n",
    "params = {\n",
    "    'colsample_bytree':1,\n",
    "    'eta':0.1,\n",
    "    'eval_metric':'mae',\n",
    "    'max_depth':3,\n",
    "    'objective':'reg:linear',\n",
    "    'silent': 1,\n",
    "    'subsample':1,\n",
    "}\n",
    "xgbtrain = xgb.DMatrix(x_train, label=y_train)\n",
    "xgbmodel = xgb.train(list(params.items()), \n",
    "                     xgbtrain, \n",
    "                     early_stopping_rounds=50,\n",
    "                     evals=[(xgbtrain, 'train')], \n",
    "                     num_boost_round=200, \n",
    "                     verbose_eval=50)"
   ]
  },
  {
   "cell_type": "code",
   "execution_count": 24,
   "metadata": {},
   "outputs": [],
   "source": [
    "model = xgbmodel\n",
    "predict=pd.DataFrame(model.predict(xgb.DMatrix(x_test),ntree_limit=model.best_ntree_limit),columns=['sales'])"
   ]
  },
  {
   "cell_type": "code",
   "execution_count": 25,
   "metadata": {},
   "outputs": [],
   "source": [
    "ids=pd.read_csv(\"test.csv\",usecols=['id'])\n",
    "predict=np.round(predict)\n",
    "sub=ids.join(predict)\n",
    "sub"
   ]
  },
  {
   "cell_type": "code",
   "execution_count": 87,
   "metadata": {},
   "outputs": [],
   "source": [
    "sub.to_csv('submission.csv',index=False)"
   ]
  },
  {
   "cell_type": "code",
   "execution_count": null,
   "metadata": {},
   "outputs": [],
   "source": []
  },
  {
   "cell_type": "code",
   "execution_count": 76,
   "metadata": {},
   "outputs": [],
   "source": [
    "# def SMAPE (forecast, actual):\n",
    "#     masked_arr = ~((forecast==0)&(actual==0))\n",
    "#     diff = abs(forecast[masked_arr] - actual[masked_arr])\n",
    "#     avg = (abs(forecast[masked_arr]) + abs(actual[masked_arr]))/2\n",
    "    \n",
    "#     print('SMAPE Error Score: ' + str(round(sum(diff/avg)/len(forecast) * 100, 2)) + ' %')"
   ]
  },
  {
   "cell_type": "code",
   "execution_count": null,
   "metadata": {},
   "outputs": [],
   "source": []
  }
 ],
 "metadata": {
  "kernelspec": {
   "display_name": "Python 3",
   "language": "python",
   "name": "python3"
  },
  "language_info": {
   "codemirror_mode": {
    "name": "ipython",
    "version": 3
   },
   "file_extension": ".py",
   "mimetype": "text/x-python",
   "name": "python",
   "nbconvert_exporter": "python",
   "pygments_lexer": "ipython3",
   "version": "3.7.1"
  }
 },
 "nbformat": 4,
 "nbformat_minor": 2
}
